{
 "cells": [
  {
   "cell_type": "code",
   "execution_count": 3,
   "metadata": {
    "collapsed": true
   },
   "outputs": [],
   "source": [
    "from forecast_emulator import ForecastEmulator\n",
    "from datetime import datetime, timedelta\n",
    "import plotly.express as px\n",
    "import pandas as pd\n",
    "import numpy as np\n",
    "%load_ext autoreload\n",
    "%autoreload 2"
   ]
  },
  {
   "cell_type": "markdown",
   "source": [
    "# Storage in Day-Ahead Market\n",
    "- Create a generic ESS class for a simple storage model without efficiency\n",
    "- Create an optimization model that simulates the participation of a storage in day-market with profit maximisation\n",
    "thanks to price arbitrage"
   ],
   "metadata": {
    "collapsed": false
   }
  },
  {
   "cell_type": "code",
   "execution_count": 4,
   "outputs": [],
   "source": [
    "from dataclasses import dataclass\n",
    "@dataclass\n",
    "class ESS:\n",
    "    pc_max: float = 0.0   # Rated Charge Power\n",
    "    pd_max: float = 0.0   # Rated Discharge Power\n",
    "    e_max: float = 0.0    # Rated Energy\n",
    "    effc: float = 0.9     # Charge efficiency\n",
    "    effd: float = 0.9     # Discharge efficiency\n",
    "    soc_min : float = 0.0 #Minimum state of charge\n",
    "    soc_max : float = 100.0 #Maximum state of charge\n",
    "    soc_init: float = 50.0  # Initial State of Charge\n"
   ],
   "metadata": {
    "collapsed": false
   }
  },
  {
   "cell_type": "code",
   "execution_count": 5,
   "outputs": [],
   "source": [
    "import pyomo.environ as pyo\n",
    "\n",
    "def da_opt(price , ESS):\n",
    "\n",
    "    deltaT=1  #1h time step in DA market\n",
    "    T = len(price)\n",
    "\n",
    "    model = pyo.ConcreteModel()\n",
    "\n",
    "    # Variables\n",
    "    model.pc = pyo.Var(range(T), within=pyo.NonNegativeReals, bounds = [0 ,ESS.pc_max ])  # charging\n",
    "    model.pd = pyo.Var(range(T), within=pyo.NonNegativeReals, bounds = [0 ,ESS.pd_max ])  # discharging\n",
    "    model.soc = pyo.Var(range(T+1), within=pyo.NonNegativeReals, bounds = [ESS.soc_min ,ESS.soc_max ] ) # state of\n",
    "\n",
    "    # Objective: maximize profit\n",
    "    model.obj = pyo.Objective(\n",
    "        expr=sum(model.pd[t]*price[t] - model.pc[t]*price[t] for t in range(T)),\n",
    "        sense=pyo.maximize\n",
    "    )\n",
    "\n",
    "    # Constraints list\n",
    "    model.constraints = pyo.ConstraintList()\n",
    "\n",
    "    # Initial SOC\n",
    "    model.constraints.add(model.soc[0] ==ESS.soc_init)\n",
    "    model.constraints.add(model.soc[T] ==ESS.soc_init)\n",
    "\n",
    "    for t in range(T):\n",
    "            model.constraints.add(\n",
    "                model.soc[t+1] == model.soc[t]\n",
    "                + (ESS.effc*model.pc[t] - (1/ESS.effd)*model.pd[t])*deltaT/max(1e-6,ESS.e_max)*100\n",
    "            )\n",
    "\n",
    "    solver = pyo.SolverFactory(\"gurobi\")\n",
    "    solver.solve(model)\n",
    "\n",
    "    return np.asarray([pyo.value(model.pd[t]) - pyo.value(model.pc[t]) for t in range(T)])\n"
   ],
   "metadata": {
    "collapsed": false
   }
  },
  {
   "cell_type": "markdown",
   "source": [
    "# Setup Simulation\n",
    "- Create an ESS object\n",
    "- Set the simulation horizon\n",
    "- Compute the optimal profit - ie perfect forecast"
   ],
   "metadata": {
    "collapsed": false
   }
  },
  {
   "cell_type": "code",
   "execution_count": 6,
   "outputs": [],
   "source": [
    "ess=ESS(pc_max = 1, pd_max = 1, effc = 1, effd = 1, e_max =2 )\n",
    "data = pd.read_excel('../data/da_prices_fr.xlsx',index_col = 0)\n",
    "from data import price_sample_data\n",
    "price_sample_data.index = pd.to_datetime(data.index).round(\"s\")\n",
    "start_time = datetime(2021,10,1,0,0)\n",
    "end_time = datetime(2021,11,1,0,0)"
   ],
   "metadata": {
    "collapsed": false
   }
  },
  {
   "cell_type": "code",
   "execution_count": 7,
   "outputs": [
    {
     "name": "stdout",
     "output_type": "stream",
     "text": [
      "optimal profit k€  12.14\n"
     ]
    }
   ],
   "source": [
    "profit_opt=0\n",
    "start_time_t=start_time\n",
    "\n",
    "while start_time_t < end_time :\n",
    "\n",
    "    # Optimal daily profit\n",
    "    price = price_sample_data.loc[start_time_t: start_time_t + timedelta(hours=24)].iloc[:-1].values\n",
    "    pess = da_opt(price,ess)\n",
    "    profit_opt = profit_opt + sum(pess*price)\n",
    "\n",
    "    # Increment start time\n",
    "    start_time_t = start_time_t + timedelta(days=1)\n",
    "\n",
    "print(f\"optimal profit k€  {profit_opt/1000:.2f}\")"
   ],
   "metadata": {
    "collapsed": false
   }
  },
  {
   "cell_type": "markdown",
   "source": [
    "# Run Test Simulations\n",
    "- Generate a forecast emulator based on prices profiles\n",
    "- Loop over different error values with several runs\n",
    "- Store and display the results"
   ],
   "metadata": {
    "collapsed": false
   }
  },
  {
   "cell_type": "code",
   "execution_count": 8,
   "outputs": [],
   "source": [
    "emulator = ForecastEmulator(ts_in = price_sample_data,\n",
    "                            nb_states = 50,\n",
    "                            nb_forecast_profiles =300)"
   ],
   "metadata": {
    "collapsed": false
   }
  },
  {
   "cell_type": "code",
   "execution_count": 9,
   "outputs": [
    {
     "name": "stderr",
     "output_type": "stream",
     "text": [
      "100%|██████████| 100/100 [10:39<00:00,  6.40s/it]\n"
     ]
    }
   ],
   "source": [
    "from tqdm import tqdm\n",
    "\n",
    "error_list= np.linspace(5,50,10)\n",
    "nb_runs = 10\n",
    "total = len(error_list)*nb_runs\n",
    "results = []\n",
    "\n",
    "start_time_t = start_time\n",
    "\n",
    "with tqdm(total = total) as pbar:\n",
    "    for e in error_list:\n",
    "        for run in range(nb_runs):\n",
    "\n",
    "            profit = 0\n",
    "            start_time_t=start_time\n",
    "\n",
    "            while start_time_t < end_time :\n",
    "\n",
    "                # Optimal daily profit\n",
    "                reference, price = emulator.forecast(start_time = start_time_t,\n",
    "                                                     duration_minutes  = 60*24,\n",
    "                                                     target_error = e,\n",
    "                                                     metric = 'nrmse',\n",
    "                                                     selection = 'closest')\n",
    "                pess = da_opt(price.values,ess)\n",
    "                price_real = price_sample_data.loc[start_time_t: start_time_t + timedelta(hours=24)].iloc[:-1].values\n",
    "                profit = profit  + sum(pess*price_real)\n",
    "\n",
    "                # Increment start time\n",
    "                start_time_t = start_time_t + timedelta(days=1)\n",
    "\n",
    "            # Replace this with your actual simulation function\n",
    "            results.append({'error': e, 'run': run+1, 'precision': profit/profit_opt*100})\n",
    "            pbar.update(1)\n",
    "\n",
    "# Convert to DataFrame\n",
    "df = pd.DataFrame(results)"
   ],
   "metadata": {
    "collapsed": false
   }
  },
  {
   "cell_type": "code",
   "execution_count": 11,
   "outputs": [
    {
     "data": {
      "text/plain": "<Figure size 640x480 with 1 Axes>",
      "image/png": "[encoded data removed]"
     },
     "metadata": {},
     "output_type": "display_data"
    }
   ],
   "source": [
    "import matplotlib.pyplot as plt\n",
    "import seaborn as sns\n",
    "sns.boxplot(data=df, x=\"error\", y=\"precision\")\n",
    "plt.xlabel(\"Forecast Error (nrmse in %)\")\n",
    "plt.ylabel(\"Precision (%)\")\n",
    "plt.title(\"Precision Distribution vs Error\")\n",
    "plt.show()\n"
   ],
   "metadata": {
    "collapsed": false
   }
  },
  {
   "cell_type": "code",
   "execution_count": 10,
   "outputs": [],
   "source": [],
   "metadata": {
    "collapsed": false
   }
  }
 ],
 "metadata": {
  "kernelspec": {
   "display_name": "Python 3",
   "language": "python",
   "name": "python3"
  },
  "language_info": {
   "codemirror_mode": {
    "name": "ipython",
    "version": 2
   },
   "file_extension": ".py",
   "mimetype": "text/x-python",
   "name": "python",
   "nbconvert_exporter": "python",
   "pygments_lexer": "ipython2",
   "version": "2.7.6"
  }
 },
 "nbformat": 4,
 "nbformat_minor": 0
}
